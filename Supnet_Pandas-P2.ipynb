{
 "cells": [
  {
   "cell_type": "code",
   "execution_count": null,
   "id": "d88dce0d-0810-4509-9087-5e52d7cba0bf",
   "metadata": {},
   "outputs": [],
   "source": [
    "import pandas as pd"
   ]
  },
  {
   "cell_type": "code",
   "execution_count": null,
   "id": "6f6e1541-4815-4598-998e-8ac9c421555c",
   "metadata": {},
   "outputs": [],
   "source": [
    "cars = pd.read_csv('cars.csv')\n",
    "cars"
   ]
  },
  {
   "cell_type": "markdown",
   "id": "fc0a7492-0339-44d9-ac4d-ee0e790e65fe",
   "metadata": {},
   "source": [
    "# Part A"
   ]
  },
  {
   "cell_type": "code",
   "execution_count": null,
   "id": "f194fa26-0873-46d5-8921-d60236416184",
   "metadata": {},
   "outputs": [],
   "source": [
    "cars[1:11:2] #Using this splicing, here are the first five rows of cars"
   ]
  },
  {
   "cell_type": "markdown",
   "id": "a65be3b4-17e8-4291-892e-c7b144e0a5da",
   "metadata": {},
   "source": [
    "# Part B"
   ]
  },
  {
   "cell_type": "code",
   "execution_count": null,
   "id": "e46957bd-31d5-4cd6-ae90-3fd04e6c9e5c",
   "metadata": {},
   "outputs": [],
   "source": [
    "cars.loc[cars['Model']=='Mazda RX4'] #Displays the row that has the model name Mazda RX4"
   ]
  },
  {
   "cell_type": "markdown",
   "id": "9651286c-b047-4367-9c01-0a20ab0e670e",
   "metadata": {},
   "source": [
    "# Part C"
   ]
  },
  {
   "cell_type": "code",
   "execution_count": null,
   "id": "4b628dcb-2e76-4a3f-b5fb-5fd26b1e4f86",
   "metadata": {},
   "outputs": [],
   "source": [
    "cars.loc[cars['Model']=='Camaro Z28',['Model','cyl']] #Displays the model name and how many cyl does it have"
   ]
  },
  {
   "cell_type": "markdown",
   "id": "9f4e298a-b32b-47ad-aa9d-fe171f80298d",
   "metadata": {},
   "source": [
    "# Part D"
   ]
  },
  {
   "cell_type": "code",
   "execution_count": null,
   "id": "089a80b4-759c-4018-be3b-a1e00d41b99b",
   "metadata": {},
   "outputs": [],
   "source": [
    "#Here we do multiple indexing where the model is equals to Mazda RX4 Wag, Ford Pantera L, and Honda Civic. \n",
    "#Here we consider the display out for cyl and gear\n",
    "A = cars.loc[cars['Model'] == 'Mazda RX4 Wag', ['Model','cyl','gear']]\n",
    "A"
   ]
  },
  {
   "cell_type": "code",
   "execution_count": null,
   "id": "6fa90455-8e95-4cb8-aade-461e15f224a5",
   "metadata": {},
   "outputs": [],
   "source": [
    "B = cars.loc[cars['Model'] == 'Ford Pantera L', ['Model','cyl','gear']]\n",
    "B"
   ]
  },
  {
   "cell_type": "code",
   "execution_count": null,
   "id": "946ed7a5-b641-4b5b-9756-7b2a11e31fb0",
   "metadata": {},
   "outputs": [],
   "source": [
    "C = cars.loc[cars['Model'] == 'Honda Civic', ['Model','cyl','gear']]\n",
    "C"
   ]
  }
 ],
 "metadata": {
  "kernelspec": {
   "display_name": "Python 3 (ipykernel)",
   "language": "python",
   "name": "python3"
  },
  "language_info": {
   "codemirror_mode": {
    "name": "ipython",
    "version": 3
   },
   "file_extension": ".py",
   "mimetype": "text/x-python",
   "name": "python",
   "nbconvert_exporter": "python",
   "pygments_lexer": "ipython3",
   "version": "3.12.4"
  }
 },
 "nbformat": 4,
 "nbformat_minor": 5
}
