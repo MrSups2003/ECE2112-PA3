{
 "cells": [
  {
   "cell_type": "code",
   "execution_count": null,
   "id": "340440ab-063d-475d-8813-19b361dd5fa6",
   "metadata": {},
   "outputs": [],
   "source": [
    "import pandas as pd"
   ]
  },
  {
   "cell_type": "code",
   "execution_count": null,
   "id": "37992505-b750-4439-b0c6-d9368f9132e5",
   "metadata": {},
   "outputs": [],
   "source": [
    "cars = pd.read_csv('cars.csv') #Open up the cars.csv file. I will be using cars as the name of dataframe\n",
    "print(cars.head(5)) #Just use the .head and .file with the value of 5. This will allow to display the first and the last live of the vehicles"
   ]
  },
  {
   "cell_type": "code",
   "execution_count": null,
   "id": "0bd48ad0-14a6-43c4-b50a-1fba46b04199",
   "metadata": {},
   "outputs": [],
   "source": [
    "print(cars.tail(5))"
   ]
  }
 ],
 "metadata": {
  "kernelspec": {
   "display_name": "Python 3 (ipykernel)",
   "language": "python",
   "name": "python3"
  },
  "language_info": {
   "codemirror_mode": {
    "name": "ipython",
    "version": 3
   },
   "file_extension": ".py",
   "mimetype": "text/x-python",
   "name": "python",
   "nbconvert_exporter": "python",
   "pygments_lexer": "ipython3",
   "version": "3.12.4"
  }
 },
 "nbformat": 4,
 "nbformat_minor": 5
}
